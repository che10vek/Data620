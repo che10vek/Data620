{
 "cells": [
  {
   "cell_type": "markdown",
   "metadata": {},
   "source": [
    "# Final Project Proposal"
   ]
  },
  {
   "cell_type": "markdown",
   "metadata": {},
   "source": [
    "Team Info\n",
    "\n",
    "Our team members are as follows:\n",
    "\n",
    "**Simon Ustoyev\n",
    "\n",
    "**Jack Russo\n",
    "\n",
    "**Elina Azrilyan\n",
    "\n",
    "**Anil Akyildirim\n"
   ]
  },
  {
   "cell_type": "markdown",
   "metadata": {},
   "source": [
    "For our Final Project our team will use a dataset of Hillary Clinton's emails released by the State Department as PDF format and further, cleaned and provided in Kaggle. The dataset consists of text in from/to fields (email addresses), person id, unique identifier for internal reference, emailid of the email, personid of the person that received the email, Emails including the metadata subject and name of the person from the emails.\n",
    "\n",
    "The dataset is located here: https://www.kaggle.com/kaggle/hillary-clinton-emails"
   ]
  },
  {
   "cell_type": "markdown",
   "metadata": {},
   "source": [
    "\n",
    "We are going to explore the releationship between the people that communicate with each other and perform network analysis. We will look at the key peoploe in the email communications, possibily find the most important people and centrality measures. We can see that in order to do this, we can use Aliases.csv file.\n",
    "We will also perform exploratory text analysis utilizing NLTK by using Emails.csv file where we can look at the metadata in the subject field in the emails. We can explore interaction and content between the email contacts. We can look at the frequent word distribution, try to see if there was a certain political category had importance. We can look into possibility of Topic Categorization of the emails based on the Subject Line in the emails.\n"
   ]
  },
  {
   "cell_type": "markdown",
   "metadata": {},
   "source": [
    "##Roles and Responsibilities\n",
    "\n",
    "**Simon Ustoyev (Hypothesis Testing/Analysis)\n",
    "\n",
    "**Jack Russo (Evaluation/Summary)\n",
    "\n",
    "**Elina Azrilyan (Proposal/Data Clean-up/Analysis) \n",
    "\n",
    "**Anil Akyildirim (Data Exploration/Analysis)"
   ]
  }
 ],
 "metadata": {
  "kernelspec": {
   "display_name": "Python 3",
   "language": "python",
   "name": "python3"
  },
  "language_info": {
   "codemirror_mode": {
    "name": "ipython",
    "version": 3
   },
   "file_extension": ".py",
   "mimetype": "text/x-python",
   "name": "python",
   "nbconvert_exporter": "python",
   "pygments_lexer": "ipython3",
   "version": "3.7.2"
  }
 },
 "nbformat": 4,
 "nbformat_minor": 2
}
